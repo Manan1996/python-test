{
 "cells": [
  {
   "cell_type": "code",
   "execution_count": 2,
   "metadata": {},
   "outputs": [
    {
     "name": "stdout",
     "output_type": "stream",
     "text": [
      "Collecting nsepy\n",
      "  Downloading https://files.pythonhosted.org/packages/23/c2/0d19d7ddb36638568ad4a83ab80b492eccc540ef7b7fa9df9a26536b16a1/nsepy-0.7.tar.gz\n",
      "Requirement already satisfied: beautifulsoup4 in c:\\users\\asus\\anaconda3\\lib\\site-packages (from nsepy) (4.6.3)\n",
      "Requirement already satisfied: requests in c:\\users\\asus\\anaconda3\\lib\\site-packages (from nsepy) (2.19.1)\n",
      "Requirement already satisfied: numpy in c:\\users\\asus\\anaconda3\\lib\\site-packages (from nsepy) (1.15.1)\n",
      "Requirement already satisfied: pandas in c:\\users\\asus\\anaconda3\\lib\\site-packages (from nsepy) (0.23.4)\n",
      "Requirement already satisfied: six in c:\\users\\asus\\anaconda3\\lib\\site-packages (from nsepy) (1.11.0)\n",
      "Requirement already satisfied: click in c:\\users\\asus\\anaconda3\\lib\\site-packages (from nsepy) (6.7)\n",
      "Requirement already satisfied: certifi>=2017.4.17 in c:\\users\\asus\\anaconda3\\lib\\site-packages (from requests->nsepy) (2018.8.24)\n",
      "Requirement already satisfied: chardet<3.1.0,>=3.0.2 in c:\\users\\asus\\anaconda3\\lib\\site-packages (from requests->nsepy) (3.0.4)\n",
      "Requirement already satisfied: idna<2.8,>=2.5 in c:\\users\\asus\\anaconda3\\lib\\site-packages (from requests->nsepy) (2.7)\n",
      "Requirement already satisfied: urllib3<1.24,>=1.21.1 in c:\\users\\asus\\anaconda3\\lib\\site-packages (from requests->nsepy) (1.23)\n",
      "Requirement already satisfied: python-dateutil>=2.5.0 in c:\\users\\asus\\anaconda3\\lib\\site-packages (from pandas->nsepy) (2.7.3)\n",
      "Requirement already satisfied: pytz>=2011k in c:\\users\\asus\\anaconda3\\lib\\site-packages (from pandas->nsepy) (2018.5)\n",
      "Building wheels for collected packages: nsepy\n",
      "  Running setup.py bdist_wheel for nsepy: started\n",
      "  Running setup.py bdist_wheel for nsepy: finished with status 'done'\n",
      "  Stored in directory: C:\\Users\\Asus\\AppData\\Local\\pip\\Cache\\wheels\\88\\89\\1e\\3dfa14f863314a42481d8926d9ef4825da5d899e026435fc3a\n",
      "Successfully built nsepy\n",
      "Installing collected packages: nsepy\n",
      "Successfully installed nsepy-0.7\n"
     ]
    },
    {
     "name": "stderr",
     "output_type": "stream",
     "text": [
      "twisted 18.7.0 requires PyHamcrest>=1.9.0, which is not installed.\n",
      "You are using pip version 10.0.1, however version 18.1 is available.\n",
      "You should consider upgrading via the 'python -m pip install --upgrade pip' command.\n"
     ]
    }
   ],
   "source": [
    "!pip install nsepy\n"
   ]
  },
  {
   "cell_type": "code",
   "execution_count": 16,
   "metadata": {},
   "outputs": [],
   "source": [
    "import nsepy \n",
    "from datetime import date\n",
    "tcs_data = nsepy.get_history(symbol='TCS',start=date(2015,1,1),end=date(2016,12,31))\n",
    "infy_data = nsepy.get_history(symbol='INFY',start=date(2015,1,1),end=date(2016,12,31))\n",
    "#tcs_data.head()\n",
    "tcs_data.to_csv(\"TCS_DATA.csv\")\n",
    "infy_data.to_csv(\"INFY_DATA.csv\")\n",
    "\n",
    "\n",
    "#Converting dataframe to csv\n",
    "#tcs.to_csv('tcs.csv')\n",
    "#infosys.to_csv('infosys.csv')"
   ]
  }
 ],
 "metadata": {
  "kernelspec": {
   "display_name": "Python 3",
   "language": "python",
   "name": "python3"
  },
  "language_info": {
   "codemirror_mode": {
    "name": "ipython",
    "version": 3
   },
   "file_extension": ".py",
   "mimetype": "text/x-python",
   "name": "python",
   "nbconvert_exporter": "python",
   "pygments_lexer": "ipython3",
   "version": "3.7.0"
  }
 },
 "nbformat": 4,
 "nbformat_minor": 2
}
