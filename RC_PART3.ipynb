{
 "cells": [
  {
   "cell_type": "code",
   "execution_count": 125,
   "metadata": {},
   "outputs": [],
   "source": [
    "import pandas as pd\n",
    "import numpy as np\n",
    "from sklearn.svm import SVR\n",
    "from sklearn.linear_model import LinearRegression\n",
    "from sklearn.linear_model import LassoLars\n",
    "\n",
    "from sklearn.cross_validation import train_test_split\n",
    "\n",
    "from sklearn.model_selection import GridSearchCV\n",
    "from sklearn.preprocessing import normalize"
   ]
  },
  {
   "cell_type": "code",
   "execution_count": 15,
   "metadata": {},
   "outputs": [
    {
     "data": {
      "text/html": [
       "<div>\n",
       "<style scoped>\n",
       "    .dataframe tbody tr th:only-of-type {\n",
       "        vertical-align: middle;\n",
       "    }\n",
       "\n",
       "    .dataframe tbody tr th {\n",
       "        vertical-align: top;\n",
       "    }\n",
       "\n",
       "    .dataframe thead th {\n",
       "        text-align: right;\n",
       "    }\n",
       "</style>\n",
       "<table border=\"1\" class=\"dataframe\">\n",
       "  <thead>\n",
       "    <tr style=\"text-align: right;\">\n",
       "      <th></th>\n",
       "      <th>Date</th>\n",
       "      <th>Symbol</th>\n",
       "      <th>Series</th>\n",
       "      <th>Prev Close</th>\n",
       "      <th>Open</th>\n",
       "      <th>High</th>\n",
       "      <th>Low</th>\n",
       "      <th>Last</th>\n",
       "      <th>Close</th>\n",
       "      <th>VWAP</th>\n",
       "      <th>Volume</th>\n",
       "      <th>Turnover</th>\n",
       "      <th>Trades</th>\n",
       "      <th>Deliverable Volume</th>\n",
       "      <th>%Deliverble</th>\n",
       "    </tr>\n",
       "  </thead>\n",
       "  <tbody>\n",
       "    <tr>\n",
       "      <th>0</th>\n",
       "      <td>2015-01-01</td>\n",
       "      <td>TCS</td>\n",
       "      <td>EQ</td>\n",
       "      <td>2558.25</td>\n",
       "      <td>2567.0</td>\n",
       "      <td>2567.00</td>\n",
       "      <td>2541.00</td>\n",
       "      <td>2550.00</td>\n",
       "      <td>2545.55</td>\n",
       "      <td>2548.51</td>\n",
       "      <td>183415</td>\n",
       "      <td>4.674345e+13</td>\n",
       "      <td>8002</td>\n",
       "      <td>52870</td>\n",
       "      <td>0.2883</td>\n",
       "    </tr>\n",
       "    <tr>\n",
       "      <th>1</th>\n",
       "      <td>2015-01-02</td>\n",
       "      <td>TCS</td>\n",
       "      <td>EQ</td>\n",
       "      <td>2545.55</td>\n",
       "      <td>2551.0</td>\n",
       "      <td>2590.95</td>\n",
       "      <td>2550.60</td>\n",
       "      <td>2588.40</td>\n",
       "      <td>2579.45</td>\n",
       "      <td>2568.19</td>\n",
       "      <td>462870</td>\n",
       "      <td>1.188740e+14</td>\n",
       "      <td>27585</td>\n",
       "      <td>309350</td>\n",
       "      <td>0.6683</td>\n",
       "    </tr>\n",
       "    <tr>\n",
       "      <th>2</th>\n",
       "      <td>2015-01-05</td>\n",
       "      <td>TCS</td>\n",
       "      <td>EQ</td>\n",
       "      <td>2579.45</td>\n",
       "      <td>2581.0</td>\n",
       "      <td>2599.90</td>\n",
       "      <td>2524.65</td>\n",
       "      <td>2538.10</td>\n",
       "      <td>2540.25</td>\n",
       "      <td>2563.94</td>\n",
       "      <td>877121</td>\n",
       "      <td>2.248886e+14</td>\n",
       "      <td>43234</td>\n",
       "      <td>456728</td>\n",
       "      <td>0.5207</td>\n",
       "    </tr>\n",
       "    <tr>\n",
       "      <th>3</th>\n",
       "      <td>2015-01-06</td>\n",
       "      <td>TCS</td>\n",
       "      <td>EQ</td>\n",
       "      <td>2540.25</td>\n",
       "      <td>2529.1</td>\n",
       "      <td>2529.10</td>\n",
       "      <td>2440.00</td>\n",
       "      <td>2450.05</td>\n",
       "      <td>2446.60</td>\n",
       "      <td>2466.90</td>\n",
       "      <td>1211892</td>\n",
       "      <td>2.989615e+14</td>\n",
       "      <td>84503</td>\n",
       "      <td>714306</td>\n",
       "      <td>0.5894</td>\n",
       "    </tr>\n",
       "    <tr>\n",
       "      <th>4</th>\n",
       "      <td>2015-01-07</td>\n",
       "      <td>TCS</td>\n",
       "      <td>EQ</td>\n",
       "      <td>2446.60</td>\n",
       "      <td>2470.0</td>\n",
       "      <td>2479.15</td>\n",
       "      <td>2407.45</td>\n",
       "      <td>2426.90</td>\n",
       "      <td>2417.70</td>\n",
       "      <td>2433.96</td>\n",
       "      <td>1318166</td>\n",
       "      <td>3.208362e+14</td>\n",
       "      <td>101741</td>\n",
       "      <td>886368</td>\n",
       "      <td>0.6724</td>\n",
       "    </tr>\n",
       "  </tbody>\n",
       "</table>\n",
       "</div>"
      ],
      "text/plain": [
       "         Date Symbol Series  Prev Close    Open     High      Low     Last  \\\n",
       "0  2015-01-01    TCS     EQ     2558.25  2567.0  2567.00  2541.00  2550.00   \n",
       "1  2015-01-02    TCS     EQ     2545.55  2551.0  2590.95  2550.60  2588.40   \n",
       "2  2015-01-05    TCS     EQ     2579.45  2581.0  2599.90  2524.65  2538.10   \n",
       "3  2015-01-06    TCS     EQ     2540.25  2529.1  2529.10  2440.00  2450.05   \n",
       "4  2015-01-07    TCS     EQ     2446.60  2470.0  2479.15  2407.45  2426.90   \n",
       "\n",
       "     Close     VWAP   Volume      Turnover  Trades  Deliverable Volume  \\\n",
       "0  2545.55  2548.51   183415  4.674345e+13    8002               52870   \n",
       "1  2579.45  2568.19   462870  1.188740e+14   27585              309350   \n",
       "2  2540.25  2563.94   877121  2.248886e+14   43234              456728   \n",
       "3  2446.60  2466.90  1211892  2.989615e+14   84503              714306   \n",
       "4  2417.70  2433.96  1318166  3.208362e+14  101741              886368   \n",
       "\n",
       "   %Deliverble  \n",
       "0       0.2883  \n",
       "1       0.6683  \n",
       "2       0.5207  \n",
       "3       0.5894  \n",
       "4       0.6724  "
      ]
     },
     "execution_count": 15,
     "metadata": {},
     "output_type": "execute_result"
    }
   ],
   "source": [
    "TCS_DATA = pd.read_csv(\"TCS_DATA.csv\")\n",
    "\n",
    "INFY_DATA = pd.read_csv(\"INFY_DATA.csv\")\n"
   ]
  },
  {
   "cell_type": "code",
   "execution_count": null,
   "metadata": {},
   "outputs": [],
   "source": [
    "USING SVR FOR TCS DATA"
   ]
  },
  {
   "cell_type": "code",
   "execution_count": 129,
   "metadata": {},
   "outputs": [],
   "source": [
    "dates = []\n",
    "prices = []\n",
    "for i in range(0,len(TCS_DATA)):\n",
    "    dates.append(int(TCS_DATA.Date[i].split('-')[0]+TCS_DATA.Date[i].split('-')[1]+TCS_DATA.Date[i].split('-')[2]))\n",
    "    #print(int(TCS_DATA.Date[i].split('-')[0]+TCS_DATA.Date[i].split('-')[1]+TCS_DATA.Date[i].split('-')[2]))\n",
    "    prices.append(float(TCS_DATA.Close[i]))\n",
    "len(dates)/len(prices)\n",
    "\n",
    "dates = np.reshape(dates,(len(dates), 1))\n",
    "\n",
    "svr_rbf = SVR(kernel= 'rbf', C= 1e3, gamma= 0.1)\n",
    "\n",
    "(X_train, X_test, Y_train, Y_test) = train_test_split(dates,prices,random_state=42)\n",
    "\n"
   ]
  },
  {
   "cell_type": "code",
   "execution_count": 141,
   "metadata": {},
   "outputs": [
    {
     "name": "stdout",
     "output_type": "stream",
     "text": [
      "ACCURACY\n",
      "97.60015907389244\n"
     ]
    }
   ],
   "source": [
    "svr_rbf.fit(X_train, Y_train)\n",
    "prediction_svr=svr_rbf.predict(X_test)\n",
    "print(\"ACCURACY\")\n",
    "print(svr_rbf.score(X_test,Y_test)*100)"
   ]
  },
  {
   "cell_type": "code",
   "execution_count": null,
   "metadata": {},
   "outputs": [],
   "source": [
    "USING LINEAR REGRESSION FOR TCS DATA"
   ]
  },
  {
   "cell_type": "code",
   "execution_count": 140,
   "metadata": {},
   "outputs": [
    {
     "name": "stdout",
     "output_type": "stream",
     "text": [
      "ACCURACY\n",
      "36.94459347358195\n"
     ]
    }
   ],
   "source": [
    "lrr = LinearRegression(fit_intercept=True,normalize=True)\n",
    "\n",
    "(X_train, X_test, Y_train, Y_test) = train_test_split(dates,prices,random_state=42)\n",
    "lrr.fit(X_train, Y_train)\n",
    "print(\"ACCURACY\")\n",
    "print(lrr.score(X_test,Y_test)*100)"
   ]
  },
  {
   "cell_type": "code",
   "execution_count": null,
   "metadata": {},
   "outputs": [],
   "source": [
    "USING SVR FOR INFY DATA"
   ]
  },
  {
   "cell_type": "code",
   "execution_count": 135,
   "metadata": {},
   "outputs": [
    {
     "data": {
      "text/plain": [
       "SVR(C=1000.0, cache_size=200, coef0=0.0, degree=3, epsilon=0.1, gamma=0.1,\n",
       "  kernel='rbf', max_iter=-1, shrinking=True, tol=0.001, verbose=False)"
      ]
     },
     "execution_count": 135,
     "metadata": {},
     "output_type": "execute_result"
    }
   ],
   "source": [
    "dates = []\n",
    "prices = []\n",
    "for i in range(0,len(INFY_DATA)):\n",
    "    dates.append(int(INFY_DATA.Date[i].split('-')[0]+INFY_DATA.Date[i].split('-')[1]+INFY_DATA.Date[i].split('-')[2]))\n",
    "    \n",
    "    prices.append(float(INFY_DATA.Close[i]))\n",
    "\n",
    "\n",
    "dates = np.reshape(dates,(len(dates), 1))\n",
    "\n",
    "svr_rbf = SVR(kernel= 'rbf', C= 1e3, gamma= 0.1)\n",
    "    \n",
    "(X_train, X_test, Y_train, Y_test) = train_test_split(dates,prices,random_state=42)\n",
    "\n",
    "svr_rbf.fit(X_train, Y_train)"
   ]
  },
  {
   "cell_type": "code",
   "execution_count": 139,
   "metadata": {},
   "outputs": [
    {
     "name": "stdout",
     "output_type": "stream",
     "text": [
      "ACCURACY\n",
      "97.60015907389244\n"
     ]
    }
   ],
   "source": [
    "prediction_svr=svr_rbf.predict(X_test)\n",
    "print(\"ACCURACY\")\n",
    "print(svr_rbf.score(X_test,Y_test)*100)"
   ]
  },
  {
   "cell_type": "code",
   "execution_count": null,
   "metadata": {},
   "outputs": [],
   "source": [
    "USING LINEAR REGRESSION FOR INFY DATA"
   ]
  },
  {
   "cell_type": "code",
   "execution_count": 138,
   "metadata": {},
   "outputs": [
    {
     "name": "stdout",
     "output_type": "stream",
     "text": [
      "ACCURACY\n",
      "36.94459347358195\n"
     ]
    }
   ],
   "source": [
    "lrr = LinearRegression(fit_intercept=True,normalize=True)\n",
    "\n",
    "(X_train, X_test, Y_train, Y_test) = train_test_split(dates,prices,random_state=42)\n",
    "lrr.fit(X_train, Y_train)\n",
    "print(\"ACCURACY\")\n",
    "print(lrr.score(X_test,Y_test)*100)"
   ]
  }
 ],
 "metadata": {
  "kernelspec": {
   "display_name": "Python 3",
   "language": "python",
   "name": "python3"
  },
  "language_info": {
   "codemirror_mode": {
    "name": "ipython",
    "version": 3
   },
   "file_extension": ".py",
   "mimetype": "text/x-python",
   "name": "python",
   "nbconvert_exporter": "python",
   "pygments_lexer": "ipython3",
   "version": "3.7.0"
  }
 },
 "nbformat": 4,
 "nbformat_minor": 2
}
